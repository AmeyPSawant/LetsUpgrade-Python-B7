{
 "cells": [
  {
   "cell_type": "markdown",
   "metadata": {},
   "source": [
    "### Question 1\n",
    "Write a decorator function for your taking input for you any kind of function you want to build,\n",
    "For example - You make a fibonacci series function,in which your input range is been defined by\n",
    "the decorator program input."
   ]
  },
  {
   "cell_type": "code",
   "execution_count": 8,
   "metadata": {},
   "outputs": [
    {
     "name": "stdout",
     "output_type": "stream",
     "text": [
      "Enter the upper limit - 5\n",
      "\n",
      "Fibonacci Series till 5 is - \n",
      "0, 1, 1, 2, 3"
     ]
    }
   ],
   "source": [
    "def decorator_Fibo(func):\n",
    "    def wrap_func():\n",
    "        num = int(input(\"Enter the upper limit - \"))\n",
    "        func(num)\n",
    "    return wrap_func\n",
    "    \n",
    "@decorator_Fibo    \n",
    "def Fibonacci(n):\n",
    "    x,y=0,1\n",
    "    print(\"\\nFibonacci Series till %i is - \"%n)\n",
    "    print(x,end=\"\")\n",
    "    while y < n:\n",
    "        print(\",\",y,end=\"\")\n",
    "        x,y = y,x+y\n",
    "    \n",
    "Fibonacci()"
   ]
  },
  {
   "cell_type": "markdown",
   "metadata": {},
   "source": [
    "### Question 2\n",
    "For this challenge you need to develop a Python program to open a file in read only mode and try\n",
    "writing something to it and handle the subsequent errors using Exception Handling."
   ]
  },
  {
   "cell_type": "code",
   "execution_count": 2,
   "metadata": {},
   "outputs": [
    {
     "name": "stdout",
     "output_type": "stream",
     "text": [
      "File open in Read mode !!\n"
     ]
    }
   ],
   "source": [
    "import io\n",
    "f = open(\"foo.txt\", \"a\")\n",
    "f.write(\"Now the file has more content!\")\n",
    "f.close()\n",
    "\n",
    "try:\n",
    "    fo = open(\"foo.txt\", \"r\")\n",
    "    fo.write(\"Python is a great language.\\nYeah its great!!\\n\")\n",
    "    fo.close()\n",
    "except io.UnsupportedOperation:\n",
    "    print(\"File open in Read mode !!\")"
   ]
  }
 ],
 "metadata": {
  "kernelspec": {
   "display_name": "Python 3",
   "language": "python",
   "name": "python3"
  },
  "language_info": {
   "codemirror_mode": {
    "name": "ipython",
    "version": 3
   },
   "file_extension": ".py",
   "mimetype": "text/x-python",
   "name": "python",
   "nbconvert_exporter": "python",
   "pygments_lexer": "ipython3",
   "version": "3.7.6"
  }
 },
 "nbformat": 4,
 "nbformat_minor": 4
}
