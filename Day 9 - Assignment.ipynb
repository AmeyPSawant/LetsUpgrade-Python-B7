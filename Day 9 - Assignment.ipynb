{
 "cells": [
  {
   "cell_type": "markdown",
   "metadata": {},
   "source": [
    "## Question 1\n",
    "Write a python Function for finding is a given number prime or not and do Unit Testing on it using \n",
    "PyLint and Unittest Library."
   ]
  },
  {
   "cell_type": "markdown",
   "metadata": {},
   "source": [
    "### *Using PyLint Library*"
   ]
  },
  {
   "cell_type": "code",
   "execution_count": 7,
   "metadata": {},
   "outputs": [
    {
     "name": "stdout",
     "output_type": "stream",
     "text": [
      "Writing day9_q1.py\n"
     ]
    }
   ],
   "source": [
    "%%writefile day9_q1.py\n",
    "\n",
    "num = 55\n",
    "\n",
    "def check_prime(number):\n",
    "    if number <= 1:\n",
    "        return False\n",
    "\n",
    "    for element in range(2, number):\n",
    "        if number % element == 0:\n",
    "            return False\n",
    "\n",
    "    return True\n",
    "        \n",
    "check_prime(num)"
   ]
  },
  {
   "cell_type": "code",
   "execution_count": 9,
   "metadata": {
    "scrolled": false
   },
   "outputs": [
    {
     "name": "stdout",
     "output_type": "stream",
     "text": [
      "************* Module day9_q1\n",
      "day9_q1.py:13:0: C0303: Trailing whitespace (trailing-whitespace)\n",
      "day9_q1.py:1:0: C0114: Missing module docstring (missing-module-docstring)\n",
      "day9_q1.py:2:0: C0103: Constant name \"num\" doesn't conform to UPPER_CASE naming style (invalid-name)\n",
      "day9_q1.py:4:0: C0116: Missing function or method docstring (missing-function-docstring)\n",
      "\n",
      "------------------------------------------------------------------\n",
      "\n",
      "Your code has been rated at 5.56/10 (previous run: 5.56/10, +0.00)\n",
      "\n",
      "\n",
      "\n"
     ]
    }
   ],
   "source": [
    "! pylint day9_q1.py"
   ]
  },
  {
   "cell_type": "code",
   "execution_count": 10,
   "metadata": {},
   "outputs": [
    {
     "name": "stdout",
     "output_type": "stream",
     "text": [
      "Overwriting day9_q1.py\n"
     ]
    }
   ],
   "source": [
    "%%writefile day9_q1.py\n",
    "\"\"\"\n",
    "The following module contains a function for checking whether a number is prime or not.\n",
    "\"\"\"\n",
    "NUM = 55\n",
    "def check_prime(number):\n",
    "    \"\"\"\n",
    "    Checks whether a passed number is prime or not\n",
    "    For e.g.\n",
    "    check_prime(4)\n",
    "    >>> 4 is not a prime number\n",
    "    check_prime(5)\n",
    "    >>> 5 is a prime number\n",
    "    \"\"\"\n",
    "    if number <= 1:\n",
    "        return False\n",
    "    for element in range(2, number):\n",
    "        if number % element == 0:\n",
    "            return False\n",
    "    return True\n",
    "check_prime(NUM)"
   ]
  },
  {
   "cell_type": "code",
   "execution_count": 11,
   "metadata": {},
   "outputs": [
    {
     "name": "stdout",
     "output_type": "stream",
     "text": [
      "\n",
      "-------------------------------------------------------------------\n",
      "\n",
      "Your code has been rated at 10.00/10 (previous run: 5.56/10, +4.44)\n",
      "\n",
      "\n",
      "\n"
     ]
    }
   ],
   "source": [
    "! pylint day9_q1.py"
   ]
  },
  {
   "cell_type": "markdown",
   "metadata": {},
   "source": [
    "### *Using Unittest Library*"
   ]
  },
  {
   "cell_type": "code",
   "execution_count": 20,
   "metadata": {},
   "outputs": [
    {
     "name": "stdout",
     "output_type": "stream",
     "text": [
      "Writing test_day9_q1.py\n"
     ]
    }
   ],
   "source": [
    "%%writefile test_day9_q1.py\n",
    "\n",
    "import unittest\n",
    "import day9_q1\n",
    "        \n",
    "class testPrime(unittest.TestCase):\n",
    "    def testFirst(self):\n",
    "        some_number = 55 \n",
    "        result = day9_q1.check_prime(some_number)\n",
    "        self.assertEqual(result,True) \n",
    "        #55 is not a Prime Number, setting output to True should Fail\n",
    "\n",
    "if __name__ == \"__main__\":\n",
    "    unittest.main()"
   ]
  },
  {
   "cell_type": "code",
   "execution_count": 21,
   "metadata": {},
   "outputs": [
    {
     "name": "stderr",
     "output_type": "stream",
     "text": [
      "F\n",
      "======================================================================\n",
      "FAIL: testFirst (__main__.testPrime)\n",
      "----------------------------------------------------------------------\n",
      "Traceback (most recent call last):\n",
      "  File \"test_day9_q1.py\", line 9, in testFirst\n",
      "    self.assertEqual(result,True)\n",
      "AssertionError: False != True\n",
      "\n",
      "----------------------------------------------------------------------\n",
      "Ran 1 test in 0.001s\n",
      "\n",
      "FAILED (failures=1)\n"
     ]
    }
   ],
   "source": [
    "! python test_day9_q1.py"
   ]
  },
  {
   "cell_type": "markdown",
   "metadata": {},
   "source": [
    "## Question 2\n",
    "Make a small generator program for returning armstrong numbers in between 1-1000 in a generator object."
   ]
  },
  {
   "cell_type": "code",
   "execution_count": 23,
   "metadata": {},
   "outputs": [],
   "source": [
    "def getArmstrongNumber(lst):\n",
    "    for num in lst:\n",
    "        temp = num\n",
    "        sum = 0\n",
    "        while temp > 0:\n",
    "            digit = temp % 10\n",
    "            sum = sum + digit ** 3\n",
    "            temp = temp//10\n",
    "            if sum == num:\n",
    "                yield(num)"
   ]
  },
  {
   "cell_type": "code",
   "execution_count": 24,
   "metadata": {},
   "outputs": [
    {
     "name": "stdout",
     "output_type": "stream",
     "text": [
      "<generator object getArmstrongNumber at 0x0000028513B568C8>\n"
     ]
    }
   ],
   "source": [
    "lst = range(1,1000)\n",
    "print(getArmstrongNumber(lst))"
   ]
  },
  {
   "cell_type": "code",
   "execution_count": 25,
   "metadata": {},
   "outputs": [
    {
     "name": "stdout",
     "output_type": "stream",
     "text": [
      "[1, 64, 125, 153, 216, 370, 371, 407, 729]\n"
     ]
    }
   ],
   "source": [
    "print(list(getArmstrongNumber(lst)))"
   ]
  }
 ],
 "metadata": {
  "kernelspec": {
   "display_name": "Python 3",
   "language": "python",
   "name": "python3"
  },
  "language_info": {
   "codemirror_mode": {
    "name": "ipython",
    "version": 3
   },
   "file_extension": ".py",
   "mimetype": "text/x-python",
   "name": "python",
   "nbconvert_exporter": "python",
   "pygments_lexer": "ipython3",
   "version": "3.7.6"
  }
 },
 "nbformat": 4,
 "nbformat_minor": 4
}
