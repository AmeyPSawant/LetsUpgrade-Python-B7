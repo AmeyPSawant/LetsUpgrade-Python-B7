{
 "cells": [
  {
   "cell_type": "markdown",
   "metadata": {},
   "source": [
    "# Question 1 - List and it's default functions"
   ]
  },
  {
   "cell_type": "code",
   "execution_count": 94,
   "metadata": {},
   "outputs": [],
   "source": [
    "li = [1,2,3.5,\"Uno\",\"Dos\"]"
   ]
  },
  {
   "cell_type": "code",
   "execution_count": 95,
   "metadata": {},
   "outputs": [
    {
     "name": "stdout",
     "output_type": "stream",
     "text": [
      "After appending the element:  [1, 2, 3.5, 'Uno', 'Dos', 5]\n"
     ]
    }
   ],
   "source": [
    "li.append(5)\n",
    "\n",
    "print(\"After appending the element: \",li)"
   ]
  },
  {
   "cell_type": "code",
   "execution_count": 96,
   "metadata": {},
   "outputs": [
    {
     "name": "stdout",
     "output_type": "stream",
     "text": [
      "After inserting '6' at index 2: [1, 2, 6, 3.5, 'Uno', 'Dos', 5]\n"
     ]
    }
   ],
   "source": [
    "li.insert(2,6)\n",
    "\n",
    "print(\"After inserting '6' at index 2:\", li)"
   ]
  },
  {
   "cell_type": "code",
   "execution_count": 97,
   "metadata": {},
   "outputs": [
    {
     "name": "stdout",
     "output_type": "stream",
     "text": [
      "Element popped:  5\n"
     ]
    }
   ],
   "source": [
    "ele = li.pop()\n",
    "\n",
    "print(\"Element popped: \", ele)"
   ]
  },
  {
   "cell_type": "code",
   "execution_count": 98,
   "metadata": {},
   "outputs": [
    {
     "name": "stdout",
     "output_type": "stream",
     "text": [
      "Before:  [1, 2, 6, 3.5, 'Uno', 'Dos']\n",
      "\n",
      "After removing 'Uno':  [1, 2, 6, 3.5, 'Dos']\n"
     ]
    }
   ],
   "source": [
    "print(\"Before: \", li)\n",
    "\n",
    "li.remove(\"Uno\")\n",
    "\n",
    "print(\"\\nAfter removing 'Uno': \", li)"
   ]
  },
  {
   "cell_type": "code",
   "execution_count": 99,
   "metadata": {},
   "outputs": [
    {
     "name": "stdout",
     "output_type": "stream",
     "text": [
      "Before:  [1, 2, 6, 3.5, 'Dos']\n",
      "\n",
      "After reversing the order:  ['Dos', 3.5, 6, 2, 1]\n"
     ]
    }
   ],
   "source": [
    "print(\"Before: \", li)\n",
    "\n",
    "li.reverse()\n",
    "\n",
    "print(\"\\nAfter reversing the order: \", li)"
   ]
  },
  {
   "cell_type": "markdown",
   "metadata": {},
   "source": [
    "# Question 2 - Dictionary and it's default functions"
   ]
  },
  {
   "cell_type": "code",
   "execution_count": 107,
   "metadata": {},
   "outputs": [],
   "source": [
    "dict1 = {\n",
    "    \"Nathan\" : \"Scott\",\n",
    "    \"Michael\" : \"Jones\",\n",
    "    \"Alexandra\" : \"Newman\",\n",
    "    \"Tracey\" : \"Rees\",\n",
    "    \"Jacob\" : \"Paige\"\n",
    "}"
   ]
  },
  {
   "cell_type": "code",
   "execution_count": 108,
   "metadata": {},
   "outputs": [
    {
     "name": "stdout",
     "output_type": "stream",
     "text": [
      "Dictionary initially:  {'Nathan': 'Scott', 'Michael': 'Jones', 'Alexandra': 'Newman', 'Tracey': 'Rees', 'Jacob': 'Paige'}\n",
      "\n",
      "Dictionary after appending new key-value pair:\n",
      " {'Nathan': 'Scott', 'Michael': 'Jones', 'Alexandra': 'Newman', 'Tracey': 'Rees', 'Jacob': 'Paige', 'Justin': 'Hill'}\n"
     ]
    }
   ],
   "source": [
    "print(\"Dictionary initially: \", dict1)\n",
    "\n",
    "dict1[\"Justin\"] = \"Hill\"\n",
    "\n",
    "print(\"\\nDictionary after appending new key-value pair:\\n\", dict1)"
   ]
  },
  {
   "cell_type": "code",
   "execution_count": 109,
   "metadata": {},
   "outputs": [
    {
     "name": "stdout",
     "output_type": "stream",
     "text": [
      "The value for key 'Nathan' is:  Scott\n"
     ]
    }
   ],
   "source": [
    "val = dict1.get(\"Nathan\")\n",
    "\n",
    "print(\"The value for key 'Nathan' is: \", val)"
   ]
  },
  {
   "cell_type": "code",
   "execution_count": 110,
   "metadata": {},
   "outputs": [
    {
     "name": "stdout",
     "output_type": "stream",
     "text": [
      "All the key-value pairs:\n",
      " dict_items([('Nathan', 'Scott'), ('Michael', 'Jones'), ('Alexandra', 'Newman'), ('Tracey', 'Rees'), ('Jacob', 'Paige'), ('Justin', 'Hill')])\n"
     ]
    }
   ],
   "source": [
    "print(\"All the key-value pairs:\\n\",dict1.items())"
   ]
  },
  {
   "cell_type": "code",
   "execution_count": 111,
   "metadata": {},
   "outputs": [
    {
     "name": "stdout",
     "output_type": "stream",
     "text": [
      "Value of popped key:  Scott\n",
      "\n",
      "Dictionary after popping last inserted entry:  {'Nathan': 'Scott', 'Michael': 'Jones', 'Alexandra': 'Newman', 'Tracey': 'Rees', 'Jacob': 'Paige'}\n"
     ]
    }
   ],
   "source": [
    "last_pop = dict1.popitem()\n",
    "print(\"Value of popped key: \",popped)\n",
    "\n",
    "print(\"\\nDictionary after popping last inserted entry: \",dict1)"
   ]
  },
  {
   "cell_type": "code",
   "execution_count": 112,
   "metadata": {},
   "outputs": [
    {
     "name": "stdout",
     "output_type": "stream",
     "text": [
      "Value of popped key:  Scott\n",
      "\n",
      "Dictionary after popping 'Nathan:Scott':  {'Michael': 'Jones', 'Alexandra': 'Newman', 'Tracey': 'Rees', 'Jacob': 'Paige'}\n"
     ]
    }
   ],
   "source": [
    "popped = dict1.pop(\"Nathan\")\n",
    "print(\"Value of popped key: \",popped)\n",
    "\n",
    "print(\"\\nDictionary after popping 'Nathan:Scott': \",dict1)"
   ]
  },
  {
   "cell_type": "markdown",
   "metadata": {},
   "source": [
    "# Question 3 - Sets and it's default functions"
   ]
  },
  {
   "cell_type": "code",
   "execution_count": 141,
   "metadata": {},
   "outputs": [],
   "source": [
    "set1 = {\"a\",\"b\",\"c\",4,5}\n",
    "set2 = {\"a\",\"c\",4}"
   ]
  },
  {
   "cell_type": "code",
   "execution_count": 142,
   "metadata": {},
   "outputs": [
    {
     "name": "stdout",
     "output_type": "stream",
     "text": [
      "After adding element to the set:  {'b', 4, 5, 6, 'c', 'a'}\n"
     ]
    }
   ],
   "source": [
    "set1.add(6)\n",
    "print(\"After adding element to the set: \", set1)"
   ]
  },
  {
   "cell_type": "code",
   "execution_count": 143,
   "metadata": {},
   "outputs": [
    {
     "name": "stdout",
     "output_type": "stream",
     "text": [
      "Element popped:  b\n",
      "\n",
      "Set1 after popping:  {4, 5, 6, 'c', 'a'}\n"
     ]
    }
   ],
   "source": [
    "popped = set1.pop()\n",
    "print(\"Element popped: \", popped)\n",
    "\n",
    "print(\"\\nSet1 after popping: \",set1)"
   ]
  },
  {
   "cell_type": "code",
   "execution_count": 144,
   "metadata": {},
   "outputs": [
    {
     "name": "stdout",
     "output_type": "stream",
     "text": [
      "Element removed:  None\n",
      "\n",
      "Set1 after removing '6':  {4, 5, 'c', 'a'}\n"
     ]
    }
   ],
   "source": [
    "removed = set1.remove(6)\n",
    "print(\"Element removed: \", removed)\n",
    "\n",
    "print(\"\\nSet1 after removing '6': \",set1)"
   ]
  },
  {
   "cell_type": "code",
   "execution_count": 145,
   "metadata": {},
   "outputs": [
    {
     "name": "stdout",
     "output_type": "stream",
     "text": [
      "set1-set2 :  {5}\n"
     ]
    }
   ],
   "source": [
    "print(\"set1-set2 : \",set1.difference(set2))"
   ]
  },
  {
   "cell_type": "code",
   "execution_count": 146,
   "metadata": {},
   "outputs": [
    {
     "name": "stdout",
     "output_type": "stream",
     "text": [
      "Is set2 subset of set1? :  True\n"
     ]
    }
   ],
   "source": [
    "print(\"Is set2 subset of set1? : \",set2.issubset(set1))"
   ]
  },
  {
   "cell_type": "markdown",
   "metadata": {},
   "source": [
    "# Question 4 - Tuple and it's default functions"
   ]
  },
  {
   "cell_type": "code",
   "execution_count": 160,
   "metadata": {},
   "outputs": [],
   "source": [
    "tuple1 = (\"apple\",\"banana\",\"cherry\",\"apple\")\n",
    "li = [1,2,3,4]\n",
    "tuple2 = tuple(li)"
   ]
  },
  {
   "cell_type": "code",
   "execution_count": 169,
   "metadata": {},
   "outputs": [
    {
     "name": "stdout",
     "output_type": "stream",
     "text": [
      "Element at index 1:  banana\n"
     ]
    }
   ],
   "source": [
    "print(\"Element at index 1: \",tuple1[1])"
   ]
  },
  {
   "cell_type": "code",
   "execution_count": 172,
   "metadata": {},
   "outputs": [
    {
     "name": "stdout",
     "output_type": "stream",
     "text": [
      "Last two elements: ('cherry', 'apple')\n"
     ]
    }
   ],
   "source": [
    "print(\"Last two elements:\", tuple1[-2:])"
   ]
  },
  {
   "cell_type": "code",
   "execution_count": 163,
   "metadata": {},
   "outputs": [
    {
     "name": "stdout",
     "output_type": "stream",
     "text": [
      "Count of 'apple':  2\n"
     ]
    }
   ],
   "source": [
    "ct = tuple1.count(\"apple\")\n",
    "print(\"Count of 'apple': \",ct)"
   ]
  },
  {
   "cell_type": "code",
   "execution_count": 165,
   "metadata": {},
   "outputs": [
    {
     "name": "stdout",
     "output_type": "stream",
     "text": [
      "Index of 'cherry':  2\n"
     ]
    }
   ],
   "source": [
    "ind = tuple1.index(\"cherry\")\n",
    "print(\"Index of 'cherry': \",ind)"
   ]
  },
  {
   "cell_type": "code",
   "execution_count": 166,
   "metadata": {},
   "outputs": [
    {
     "name": "stdout",
     "output_type": "stream",
     "text": [
      "Joining two tuples:  ('apple', 'banana', 'cherry', 'apple', 1, 2, 3, 4)\n"
     ]
    }
   ],
   "source": [
    "tuple3 = tuple1 + tuple2\n",
    "print(\"Joining two tuples: \", tuple3)"
   ]
  },
  {
   "cell_type": "markdown",
   "metadata": {},
   "source": [
    "# Question 5 - Strings and it's default functions"
   ]
  },
  {
   "cell_type": "code",
   "execution_count": 178,
   "metadata": {},
   "outputs": [],
   "source": [
    "str1 = \"hello python !\""
   ]
  },
  {
   "cell_type": "code",
   "execution_count": 182,
   "metadata": {},
   "outputs": [
    {
     "name": "stdout",
     "output_type": "stream",
     "text": [
      "Capitalization on string:  Hello python !\n"
     ]
    }
   ],
   "source": [
    "print(\"Capitalization on string: \", str1.capitalize())"
   ]
  },
  {
   "cell_type": "code",
   "execution_count": 187,
   "metadata": {},
   "outputs": [
    {
     "name": "stdout",
     "output_type": "stream",
     "text": [
      "Is string in lower case:  True\n"
     ]
    }
   ],
   "source": [
    "print(\"Is string in lower case: \",str1.islower())"
   ]
  },
  {
   "cell_type": "code",
   "execution_count": 181,
   "metadata": {},
   "outputs": [
    {
     "name": "stdout",
     "output_type": "stream",
     "text": [
      "All characters in upper case:  HELLO PYTHON !\n"
     ]
    }
   ],
   "source": [
    "print(\"All characters in upper case: \",str1.upper())"
   ]
  },
  {
   "cell_type": "code",
   "execution_count": 186,
   "metadata": {},
   "outputs": [
    {
     "name": "stdout",
     "output_type": "stream",
     "text": [
      "Is string decimal:  False\n"
     ]
    }
   ],
   "source": [
    "print(\"Is string decimal: \",str1.isdecimal())"
   ]
  },
  {
   "cell_type": "code",
   "execution_count": 195,
   "metadata": {},
   "outputs": [
    {
     "name": "stdout",
     "output_type": "stream",
     "text": [
      "000000hello python !\n"
     ]
    }
   ],
   "source": [
    "print(str1.zfill(20))"
   ]
  }
 ],
 "metadata": {
  "kernelspec": {
   "display_name": "Python 3",
   "language": "python",
   "name": "python3"
  },
  "language_info": {
   "codemirror_mode": {
    "name": "ipython",
    "version": 3
   },
   "file_extension": ".py",
   "mimetype": "text/x-python",
   "name": "python",
   "nbconvert_exporter": "python",
   "pygments_lexer": "ipython3",
   "version": "3.7.6"
  }
 },
 "nbformat": 4,
 "nbformat_minor": 4
}
