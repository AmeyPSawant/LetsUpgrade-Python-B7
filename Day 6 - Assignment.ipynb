{
 "cells": [
  {
   "cell_type": "markdown",
   "metadata": {},
   "source": [
    "### Question 1\n",
    "#### For this challenge, create a bank account class that has two attributes:\n",
    "\n",
    "##### *ownerName\n",
    "##### *Balance\n",
    "\n",
    "##### And two methods\n",
    "\n",
    "##### *deposit\n",
    "##### *withdraw\n",
    "\n",
    "##### As an added requirement, withdrawals may not exceed the available balance.\n",
    "\n",
    "##### Instantiate your class, make several deposits and withdrawals, and test to make sure the account can't be overdrawn\n"
   ]
  },
  {
   "cell_type": "code",
   "execution_count": 43,
   "metadata": {},
   "outputs": [],
   "source": [
    "class Bank_Account: \n",
    "    def __init__(self): \n",
    "        self.ownerName = \"\"\n",
    "        self.balance=0\n",
    "    \n",
    "    def set_ownerName(self):\n",
    "        name = input(\"\\nEnter the Name: \")\n",
    "        self.ownerName = name\n",
    "    \n",
    "    def get_ownerName(self):\n",
    "        print(\"Welcome \",self.ownerName)\n",
    "    \n",
    "    def deposit(self): \n",
    "        amount=float(input(\"\\nEnter amount to be Deposited: \")) \n",
    "        self.balance += amount \n",
    "        print(\"Amount Deposited : \",amount) \n",
    "  \n",
    "    def withdraw(self): \n",
    "        amount = float(input(\"\\nEnter amount to be Withdrawn: \")) \n",
    "        if self.balance>=amount: \n",
    "            self.balance-=amount \n",
    "            print(\"You Withdrew : \", amount)\n",
    "            print(\"Have a Great Day !\")\n",
    "        else: \n",
    "            print(\"Insufficient balance  \")\n",
    "            chk_bal = input(\"\\nCheck Available Balance (Y/N): \")\n",
    "            if chk_bal.lower() == \"y\":\n",
    "                print(\"Net Available Balance : \",self.balance)\n",
    "                print(\"Have a Great Day !\")\n",
    "            else:\n",
    "                print(\"Have a Great Day !\")\n",
    "        "
   ]
  },
  {
   "cell_type": "code",
   "execution_count": 44,
   "metadata": {},
   "outputs": [
    {
     "name": "stdout",
     "output_type": "stream",
     "text": [
      "\n",
      "Enter the Name: Adam\n",
      "Welcome  Adam\n",
      "\n",
      "Enter amount to be Deposited: 5000\n",
      "Amount Deposited :  5000.0\n",
      "\n",
      "Enter amount to be Withdrawn: 4000\n",
      "You Withdrew :  4000.0\n",
      "Have a Great Day !\n"
     ]
    }
   ],
   "source": [
    "s = Bank_Account() \n",
    "\n",
    "s.set_ownerName()\n",
    "s.get_ownerName()\n",
    "s.deposit() \n",
    "s.withdraw() "
   ]
  },
  {
   "cell_type": "code",
   "execution_count": 45,
   "metadata": {},
   "outputs": [
    {
     "name": "stdout",
     "output_type": "stream",
     "text": [
      "\n",
      "Enter the Name: Eve\n",
      "Welcome  Eve\n",
      "\n",
      "Enter amount to be Deposited: 5000\n",
      "Amount Deposited :  5000.0\n",
      "\n",
      "Enter amount to be Withdrawn: 6500\n",
      "Insufficient balance  \n",
      "\n",
      "Check Available Balance (Y/N): y\n",
      "Net Available Balance :  5000.0\n",
      "Have a Great Day !\n"
     ]
    }
   ],
   "source": [
    "p = Bank_Account() \n",
    "\n",
    "p.set_ownerName()\n",
    "p.get_ownerName()\n",
    "p.deposit() \n",
    "p.withdraw() "
   ]
  },
  {
   "cell_type": "markdown",
   "metadata": {},
   "source": [
    "### Question 2\n",
    "#### For this challenge, create a cone class that has two attributes:\n",
    "\n",
    "##### *R=Radius\n",
    "##### *h=Height\n",
    "\n",
    "##### And two methods\n",
    "\n",
    "##### *Volume = π * r2 * (h/3)\n",
    "##### *Surface area : base = π * r2, side = π * r * sqrt(r2+h2)\n",
    "\n",
    "##### Make only one class with functions, as in where required import Math\n"
   ]
  },
  {
   "cell_type": "code",
   "execution_count": 46,
   "metadata": {},
   "outputs": [],
   "source": [
    "import math as m\n",
    "class Cone: \n",
    "    def __init__(self): \n",
    "        self.radius = 0\n",
    "        self.height = 0\n",
    "        self.set_parameters()\n",
    "        self.calc_Volume()\n",
    "        self.calc_TSA()\n",
    "    \n",
    "    def set_parameters(self):\n",
    "        radius = float(input(\"Enter the Radius: \"))\n",
    "        self.radius = radius\n",
    "        \n",
    "        height = float(input(\"Enter the Height: \"))\n",
    "        self.height = height\n",
    "        \n",
    "    def calc_Volume(self):\n",
    "        r = self.radius\n",
    "        h = self.height\n",
    "        volume = m.pi * m.pow(r,2) * (h/3)\n",
    "        print(\"\\nVolume : %0.2f\"%volume)\n",
    "        \n",
    "    def calc_TSA(self):\n",
    "        r = self.radius\n",
    "        h = self.height\n",
    "        base = m.pi * m.pow(r,2)\n",
    "        \n",
    "        side = m.pi * r * m.sqrt(m.pow(r,2)+m.pow(h,2))\n",
    "        \n",
    "        print(\"\\nSurface Areas\")\n",
    "        print(\"Base  : %0.2f\"%base)\n",
    "        print(\"Side  : %0.2f\"%side)\n",
    "        print(\"Total : %0.2f\"%(base+side))"
   ]
  },
  {
   "cell_type": "code",
   "execution_count": 47,
   "metadata": {},
   "outputs": [
    {
     "name": "stdout",
     "output_type": "stream",
     "text": [
      "Enter the Radius: 5\n",
      "Enter the Height: 4\n",
      "\n",
      "Volume : 104.72\n",
      "\n",
      "Surface Areas\n",
      "Base  : 78.54\n",
      "Side  : 100.58\n",
      "Total : 179.12\n"
     ]
    }
   ],
   "source": [
    "c1 = Cone()"
   ]
  }
 ],
 "metadata": {
  "kernelspec": {
   "display_name": "Python 3",
   "language": "python",
   "name": "python3"
  },
  "language_info": {
   "codemirror_mode": {
    "name": "ipython",
    "version": 3
   },
   "file_extension": ".py",
   "mimetype": "text/x-python",
   "name": "python",
   "nbconvert_exporter": "python",
   "pygments_lexer": "ipython3",
   "version": "3.7.6"
  }
 },
 "nbformat": 4,
 "nbformat_minor": 4
}
